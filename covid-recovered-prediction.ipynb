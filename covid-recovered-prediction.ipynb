{
 "cells": [
  {
   "cell_type": "code",
   "execution_count": 1,
   "id": "e0c84e7c",
   "metadata": {
    "execution": {
     "iopub.execute_input": "2025-08-15T21:56:34.557581Z",
     "iopub.status.busy": "2025-08-15T21:56:34.557302Z",
     "iopub.status.idle": "2025-08-15T21:56:36.391233Z",
     "shell.execute_reply": "2025-08-15T21:56:36.390189Z"
    },
    "id": "-UhIHZR-D181",
    "papermill": {
     "duration": 1.843595,
     "end_time": "2025-08-15T21:56:36.393171",
     "exception": false,
     "start_time": "2025-08-15T21:56:34.549576",
     "status": "completed"
    },
    "tags": []
   },
   "outputs": [],
   "source": [
    "import pandas as pd\n",
    "import numpy as np\n"
   ]
  },
  {
   "cell_type": "code",
   "execution_count": 2,
   "id": "fd74e1c1",
   "metadata": {
    "execution": {
     "iopub.execute_input": "2025-08-15T21:56:36.406980Z",
     "iopub.status.busy": "2025-08-15T21:56:36.406565Z",
     "iopub.status.idle": "2025-08-15T21:56:36.481758Z",
     "shell.execute_reply": "2025-08-15T21:56:36.480969Z"
    },
    "papermill": {
     "duration": 0.084162,
     "end_time": "2025-08-15T21:56:36.483412",
     "exception": false,
     "start_time": "2025-08-15T21:56:36.399250",
     "status": "completed"
    },
    "tags": []
   },
   "outputs": [
    {
     "data": {
      "text/html": [
       "<div>\n",
       "<style scoped>\n",
       "    .dataframe tbody tr th:only-of-type {\n",
       "        vertical-align: middle;\n",
       "    }\n",
       "\n",
       "    .dataframe tbody tr th {\n",
       "        vertical-align: top;\n",
       "    }\n",
       "\n",
       "    .dataframe thead th {\n",
       "        text-align: right;\n",
       "    }\n",
       "</style>\n",
       "<table border=\"1\" class=\"dataframe\">\n",
       "  <thead>\n",
       "    <tr style=\"text-align: right;\">\n",
       "      <th></th>\n",
       "      <th>Patient_ID</th>\n",
       "      <th>Age</th>\n",
       "      <th>Gender</th>\n",
       "      <th>Region</th>\n",
       "      <th>Preexisting_Condition</th>\n",
       "      <th>Date_of_Infection</th>\n",
       "      <th>COVID_Strain</th>\n",
       "      <th>Symptoms</th>\n",
       "      <th>Severity</th>\n",
       "      <th>Hospitalized</th>\n",
       "      <th>...</th>\n",
       "      <th>Reinfection</th>\n",
       "      <th>Date_of_Reinfection</th>\n",
       "      <th>Vaccination_Status</th>\n",
       "      <th>Vaccine_Type</th>\n",
       "      <th>Doses_Received</th>\n",
       "      <th>Date_of_Last_Dose</th>\n",
       "      <th>Long_COVID_Symptoms</th>\n",
       "      <th>Occupation</th>\n",
       "      <th>Smoking_Status</th>\n",
       "      <th>BMI</th>\n",
       "    </tr>\n",
       "  </thead>\n",
       "  <tbody>\n",
       "    <tr>\n",
       "      <th>0</th>\n",
       "      <td>1</td>\n",
       "      <td>69</td>\n",
       "      <td>Male</td>\n",
       "      <td>Hovedstaden</td>\n",
       "      <td>Obesity</td>\n",
       "      <td>2022-06-21</td>\n",
       "      <td>Delta</td>\n",
       "      <td>Mild</td>\n",
       "      <td>Moderate</td>\n",
       "      <td>Yes</td>\n",
       "      <td>...</td>\n",
       "      <td>No</td>\n",
       "      <td>NaN</td>\n",
       "      <td>Yes</td>\n",
       "      <td>NaN</td>\n",
       "      <td>1</td>\n",
       "      <td>2022-09-22</td>\n",
       "      <td>NaN</td>\n",
       "      <td>Healthcare</td>\n",
       "      <td>Never</td>\n",
       "      <td>27.7</td>\n",
       "    </tr>\n",
       "    <tr>\n",
       "      <th>1</th>\n",
       "      <td>2</td>\n",
       "      <td>38</td>\n",
       "      <td>Male</td>\n",
       "      <td>Sjælland</td>\n",
       "      <td>Asthma</td>\n",
       "      <td>2024-02-02</td>\n",
       "      <td>XBB.1.5</td>\n",
       "      <td>Mild</td>\n",
       "      <td>Moderate</td>\n",
       "      <td>No</td>\n",
       "      <td>...</td>\n",
       "      <td>No</td>\n",
       "      <td>NaN</td>\n",
       "      <td>No</td>\n",
       "      <td>NaN</td>\n",
       "      <td>0</td>\n",
       "      <td>NaN</td>\n",
       "      <td>NaN</td>\n",
       "      <td>Healthcare</td>\n",
       "      <td>Never</td>\n",
       "      <td>21.9</td>\n",
       "    </tr>\n",
       "    <tr>\n",
       "      <th>2</th>\n",
       "      <td>3</td>\n",
       "      <td>41</td>\n",
       "      <td>Female</td>\n",
       "      <td>Syddanmark</td>\n",
       "      <td>Hypertension</td>\n",
       "      <td>2023-05-28</td>\n",
       "      <td>Beta</td>\n",
       "      <td>Mild</td>\n",
       "      <td>High</td>\n",
       "      <td>Yes</td>\n",
       "      <td>...</td>\n",
       "      <td>No</td>\n",
       "      <td>NaN</td>\n",
       "      <td>Yes</td>\n",
       "      <td>Janssen</td>\n",
       "      <td>3</td>\n",
       "      <td>2024-05-14</td>\n",
       "      <td>NaN</td>\n",
       "      <td>Unemployed</td>\n",
       "      <td>Never</td>\n",
       "      <td>22.7</td>\n",
       "    </tr>\n",
       "    <tr>\n",
       "      <th>3</th>\n",
       "      <td>4</td>\n",
       "      <td>81</td>\n",
       "      <td>Female</td>\n",
       "      <td>Hovedstaden</td>\n",
       "      <td>Asthma</td>\n",
       "      <td>2023-08-13</td>\n",
       "      <td>Delta</td>\n",
       "      <td>Severe</td>\n",
       "      <td>High</td>\n",
       "      <td>No</td>\n",
       "      <td>...</td>\n",
       "      <td>Yes</td>\n",
       "      <td>2024-08-24</td>\n",
       "      <td>Yes</td>\n",
       "      <td>AstraZeneca</td>\n",
       "      <td>1</td>\n",
       "      <td>2024-10-31</td>\n",
       "      <td>NaN</td>\n",
       "      <td>Office Worker</td>\n",
       "      <td>Never</td>\n",
       "      <td>27.7</td>\n",
       "    </tr>\n",
       "    <tr>\n",
       "      <th>4</th>\n",
       "      <td>5</td>\n",
       "      <td>50</td>\n",
       "      <td>Female</td>\n",
       "      <td>Syddanmark</td>\n",
       "      <td>Cardiovascular</td>\n",
       "      <td>2023-03-10</td>\n",
       "      <td>Delta</td>\n",
       "      <td>Mild</td>\n",
       "      <td>High</td>\n",
       "      <td>No</td>\n",
       "      <td>...</td>\n",
       "      <td>No</td>\n",
       "      <td>NaN</td>\n",
       "      <td>Yes</td>\n",
       "      <td>NaN</td>\n",
       "      <td>2</td>\n",
       "      <td>2023-07-05</td>\n",
       "      <td>NaN</td>\n",
       "      <td>Student</td>\n",
       "      <td>Never</td>\n",
       "      <td>11.9</td>\n",
       "    </tr>\n",
       "  </tbody>\n",
       "</table>\n",
       "<p>5 rows × 26 columns</p>\n",
       "</div>"
      ],
      "text/plain": [
       "   Patient_ID  Age  Gender       Region Preexisting_Condition  \\\n",
       "0           1   69    Male  Hovedstaden               Obesity   \n",
       "1           2   38    Male     Sjælland                Asthma   \n",
       "2           3   41  Female   Syddanmark          Hypertension   \n",
       "3           4   81  Female  Hovedstaden                Asthma   \n",
       "4           5   50  Female   Syddanmark        Cardiovascular   \n",
       "\n",
       "  Date_of_Infection COVID_Strain Symptoms  Severity Hospitalized  ...  \\\n",
       "0        2022-06-21        Delta     Mild  Moderate          Yes  ...   \n",
       "1        2024-02-02      XBB.1.5     Mild  Moderate           No  ...   \n",
       "2        2023-05-28         Beta     Mild      High          Yes  ...   \n",
       "3        2023-08-13        Delta   Severe      High           No  ...   \n",
       "4        2023-03-10        Delta     Mild      High           No  ...   \n",
       "\n",
       "  Reinfection Date_of_Reinfection Vaccination_Status Vaccine_Type  \\\n",
       "0          No                 NaN                Yes          NaN   \n",
       "1          No                 NaN                 No          NaN   \n",
       "2          No                 NaN                Yes      Janssen   \n",
       "3         Yes          2024-08-24                Yes  AstraZeneca   \n",
       "4          No                 NaN                Yes          NaN   \n",
       "\n",
       "  Doses_Received Date_of_Last_Dose Long_COVID_Symptoms     Occupation  \\\n",
       "0              1        2022-09-22                 NaN     Healthcare   \n",
       "1              0               NaN                 NaN     Healthcare   \n",
       "2              3        2024-05-14                 NaN     Unemployed   \n",
       "3              1        2024-10-31                 NaN  Office Worker   \n",
       "4              2        2023-07-05                 NaN        Student   \n",
       "\n",
       "  Smoking_Status   BMI  \n",
       "0          Never  27.7  \n",
       "1          Never  21.9  \n",
       "2          Never  22.7  \n",
       "3          Never  27.7  \n",
       "4          Never  11.9  \n",
       "\n",
       "[5 rows x 26 columns]"
      ]
     },
     "execution_count": 2,
     "metadata": {},
     "output_type": "execute_result"
    }
   ],
   "source": [
    "\n",
    "# Load the dataset using the exact filename\n",
    "df = pd.read_csv(\"/kaggle/input/covid-19-reinfection-and-health-dataset/covid_related_disease_data.csv\")\n",
    "\n",
    "# Display first 5 rows to verify\n",
    "df.head()"
   ]
  },
  {
   "cell_type": "code",
   "execution_count": 3,
   "id": "058c805c",
   "metadata": {
    "execution": {
     "iopub.execute_input": "2025-08-15T21:56:36.497636Z",
     "iopub.status.busy": "2025-08-15T21:56:36.497358Z",
     "iopub.status.idle": "2025-08-15T21:56:36.505352Z",
     "shell.execute_reply": "2025-08-15T21:56:36.504408Z"
    },
    "id": "LL5kcmpXEqZu",
    "outputId": "f13c5721-dcac-46b9-fd0e-9e45719dbfed",
    "papermill": {
     "duration": 0.0163,
     "end_time": "2025-08-15T21:56:36.506691",
     "exception": false,
     "start_time": "2025-08-15T21:56:36.490391",
     "status": "completed"
    },
    "tags": []
   },
   "outputs": [
    {
     "data": {
      "text/plain": [
       "Patient_ID                   int64\n",
       "Age                          int64\n",
       "Gender                      object\n",
       "Region                      object\n",
       "Preexisting_Condition       object\n",
       "Date_of_Infection           object\n",
       "COVID_Strain                object\n",
       "Symptoms                    object\n",
       "Severity                    object\n",
       "Hospitalized                object\n",
       "Hospital_Admission_Date     object\n",
       "Hospital_Discharge_Date     object\n",
       "ICU_Admission               object\n",
       "Ventilator_Support          object\n",
       "Recovered                   object\n",
       "Date_of_Recovery            object\n",
       "Reinfection                 object\n",
       "Date_of_Reinfection         object\n",
       "Vaccination_Status          object\n",
       "Vaccine_Type                object\n",
       "Doses_Received               int64\n",
       "Date_of_Last_Dose           object\n",
       "Long_COVID_Symptoms         object\n",
       "Occupation                  object\n",
       "Smoking_Status              object\n",
       "BMI                        float64\n",
       "dtype: object"
      ]
     },
     "execution_count": 3,
     "metadata": {},
     "output_type": "execute_result"
    }
   ],
   "source": [
    "df.dtypes"
   ]
  },
  {
   "cell_type": "code",
   "execution_count": 4,
   "id": "644eba8d",
   "metadata": {
    "execution": {
     "iopub.execute_input": "2025-08-15T21:56:36.519849Z",
     "iopub.status.busy": "2025-08-15T21:56:36.519584Z",
     "iopub.status.idle": "2025-08-15T21:56:36.529949Z",
     "shell.execute_reply": "2025-08-15T21:56:36.529089Z"
    },
    "id": "jVPOywgsEqU3",
    "outputId": "f1b9b242-e2b1-49e6-e060-d286fdd290e4",
    "papermill": {
     "duration": 0.01894,
     "end_time": "2025-08-15T21:56:36.531715",
     "exception": false,
     "start_time": "2025-08-15T21:56:36.512775",
     "status": "completed"
    },
    "tags": []
   },
   "outputs": [
    {
     "data": {
      "text/plain": [
       "Patient_ID                    0\n",
       "Age                           0\n",
       "Gender                        0\n",
       "Region                        0\n",
       "Preexisting_Condition       469\n",
       "Date_of_Infection             0\n",
       "COVID_Strain                  0\n",
       "Symptoms                      0\n",
       "Severity                      0\n",
       "Hospitalized                  0\n",
       "Hospital_Admission_Date    2124\n",
       "Hospital_Discharge_Date    2124\n",
       "ICU_Admission                 0\n",
       "Ventilator_Support            0\n",
       "Recovered                     0\n",
       "Date_of_Recovery           1492\n",
       "Reinfection                   0\n",
       "Date_of_Reinfection        2715\n",
       "Vaccination_Status            0\n",
       "Vaccine_Type               1809\n",
       "Doses_Received                0\n",
       "Date_of_Last_Dose          1528\n",
       "Long_COVID_Symptoms        2780\n",
       "Occupation                    0\n",
       "Smoking_Status                0\n",
       "BMI                           0\n",
       "dtype: int64"
      ]
     },
     "execution_count": 4,
     "metadata": {},
     "output_type": "execute_result"
    }
   ],
   "source": [
    "df.isnull().sum()"
   ]
  },
  {
   "cell_type": "code",
   "execution_count": 5,
   "id": "1fe6bfdd",
   "metadata": {
    "execution": {
     "iopub.execute_input": "2025-08-15T21:56:36.545704Z",
     "iopub.status.busy": "2025-08-15T21:56:36.545439Z",
     "iopub.status.idle": "2025-08-15T21:56:36.552749Z",
     "shell.execute_reply": "2025-08-15T21:56:36.551951Z"
    },
    "id": "VZbzPbpbE0X1",
    "papermill": {
     "duration": 0.016291,
     "end_time": "2025-08-15T21:56:36.554503",
     "exception": false,
     "start_time": "2025-08-15T21:56:36.538212",
     "status": "completed"
    },
    "tags": []
   },
   "outputs": [],
   "source": [
    "df['Preexisting_Condition'] = df['Preexisting_Condition'].fillna('None')"
   ]
  },
  {
   "cell_type": "code",
   "execution_count": 6,
   "id": "fd9d2f91",
   "metadata": {
    "execution": {
     "iopub.execute_input": "2025-08-15T21:56:36.568105Z",
     "iopub.status.busy": "2025-08-15T21:56:36.567801Z",
     "iopub.status.idle": "2025-08-15T21:56:36.577360Z",
     "shell.execute_reply": "2025-08-15T21:56:36.576278Z"
    },
    "id": "TNXa4x41Is-S",
    "papermill": {
     "duration": 0.018024,
     "end_time": "2025-08-15T21:56:36.578744",
     "exception": false,
     "start_time": "2025-08-15T21:56:36.560720",
     "status": "completed"
    },
    "tags": []
   },
   "outputs": [],
   "source": [
    "df.loc[df['Hospitalized'] == 'No',['Hospital_Admission_Date','Hospital_Discharge_Date']] = pd.NA"
   ]
  },
  {
   "cell_type": "code",
   "execution_count": 7,
   "id": "1f8869a8",
   "metadata": {
    "execution": {
     "iopub.execute_input": "2025-08-15T21:56:36.592588Z",
     "iopub.status.busy": "2025-08-15T21:56:36.592299Z",
     "iopub.status.idle": "2025-08-15T21:56:36.603962Z",
     "shell.execute_reply": "2025-08-15T21:56:36.602826Z"
    },
    "id": "gZVYAbwxMxz4",
    "outputId": "ade02119-926f-441c-d14c-04c8e957773c",
    "papermill": {
     "duration": 0.020564,
     "end_time": "2025-08-15T21:56:36.605526",
     "exception": false,
     "start_time": "2025-08-15T21:56:36.584962",
     "status": "completed"
    },
    "tags": []
   },
   "outputs": [
    {
     "name": "stdout",
     "output_type": "stream",
     "text": [
      "Recovered\n",
      "No    1492\n",
      "Name: count, dtype: int64\n"
     ]
    }
   ],
   "source": [
    "print(df[df['Date_of_Recovery'].isnull()]['Recovered'].value_counts())"
   ]
  },
  {
   "cell_type": "code",
   "execution_count": 8,
   "id": "535439cf",
   "metadata": {
    "execution": {
     "iopub.execute_input": "2025-08-15T21:56:36.619752Z",
     "iopub.status.busy": "2025-08-15T21:56:36.619043Z",
     "iopub.status.idle": "2025-08-15T21:56:36.630140Z",
     "shell.execute_reply": "2025-08-15T21:56:36.629227Z"
    },
    "id": "DGH_pqwlN_hb",
    "outputId": "5088f87b-4f51-4653-b8af-8893ad50c244",
    "papermill": {
     "duration": 0.019454,
     "end_time": "2025-08-15T21:56:36.631373",
     "exception": false,
     "start_time": "2025-08-15T21:56:36.611919",
     "status": "completed"
    },
    "tags": []
   },
   "outputs": [
    {
     "name": "stdout",
     "output_type": "stream",
     "text": [
      "1492\n"
     ]
    }
   ],
   "source": [
    "df['Date_of_Recovery'] = pd.to_datetime(df['Date_of_Recovery'])\n",
    "print(df['Date_of_Recovery'].isnull().sum())  # Should be 1492 (all `Recovered==\"No\"`)"
   ]
  },
  {
   "cell_type": "code",
   "execution_count": 9,
   "id": "819b2fae",
   "metadata": {
    "execution": {
     "iopub.execute_input": "2025-08-15T21:56:36.645385Z",
     "iopub.status.busy": "2025-08-15T21:56:36.644559Z",
     "iopub.status.idle": "2025-08-15T21:56:36.652586Z",
     "shell.execute_reply": "2025-08-15T21:56:36.651578Z"
    },
    "id": "FxinSThdL7FG",
    "outputId": "fb6f175c-2c6c-4ab1-d264-7cc758ceb4e4",
    "papermill": {
     "duration": 0.01655,
     "end_time": "2025-08-15T21:56:36.654092",
     "exception": false,
     "start_time": "2025-08-15T21:56:36.637542",
     "status": "completed"
    },
    "tags": []
   },
   "outputs": [
    {
     "data": {
      "text/plain": [
       "0"
      ]
     },
     "execution_count": 9,
     "metadata": {},
     "output_type": "execute_result"
    }
   ],
   "source": [
    "#all null values for Date_of_Recovery is not Recovered yet add a placeholder\n",
    "df['Date_of_Recovery'] = df['Date_of_Recovery'].fillna(pd.to_datetime('2099-12-31'))\n",
    "df['Date_of_Recovery'].isnull().sum()"
   ]
  },
  {
   "cell_type": "code",
   "execution_count": 10,
   "id": "11c9fc4e",
   "metadata": {
    "execution": {
     "iopub.execute_input": "2025-08-15T21:56:36.667625Z",
     "iopub.status.busy": "2025-08-15T21:56:36.667363Z",
     "iopub.status.idle": "2025-08-15T21:56:36.675772Z",
     "shell.execute_reply": "2025-08-15T21:56:36.674627Z"
    },
    "id": "-9pTjBRGPb0s",
    "outputId": "9887156d-33cd-45cd-8274-2621d3ce5062",
    "papermill": {
     "duration": 0.017058,
     "end_time": "2025-08-15T21:56:36.677428",
     "exception": false,
     "start_time": "2025-08-15T21:56:36.660370",
     "status": "completed"
    },
    "tags": []
   },
   "outputs": [
    {
     "name": "stdout",
     "output_type": "stream",
     "text": [
      "Reinfection\n",
      "No    2715\n",
      "Name: count, dtype: int64\n"
     ]
    }
   ],
   "source": [
    "#all null values for Date_of_Reinfection doesn't have a Reinfection keep null\n",
    "print(df[df['Date_of_Reinfection'].isnull()]['Reinfection'].value_counts())"
   ]
  },
  {
   "cell_type": "code",
   "execution_count": 11,
   "id": "e749e989",
   "metadata": {
    "execution": {
     "iopub.execute_input": "2025-08-15T21:56:36.691726Z",
     "iopub.status.busy": "2025-08-15T21:56:36.691464Z",
     "iopub.status.idle": "2025-08-15T21:56:36.699539Z",
     "shell.execute_reply": "2025-08-15T21:56:36.698473Z"
    },
    "id": "M4Yia2rsRPrl",
    "outputId": "1e2d0256-2a66-4c30-fcee-6119330e4552",
    "papermill": {
     "duration": 0.017261,
     "end_time": "2025-08-15T21:56:36.700979",
     "exception": false,
     "start_time": "2025-08-15T21:56:36.683718",
     "status": "completed"
    },
    "tags": []
   },
   "outputs": [
    {
     "name": "stdout",
     "output_type": "stream",
     "text": [
      "Vaccination_Status\n",
      "No     1528\n",
      "Yes     281\n",
      "Name: count, dtype: int64\n"
     ]
    }
   ],
   "source": [
    "print(df[df['Vaccine_Type'].isnull()]['Vaccination_Status'].value_counts())"
   ]
  },
  {
   "cell_type": "code",
   "execution_count": 12,
   "id": "be6dcd79",
   "metadata": {
    "execution": {
     "iopub.execute_input": "2025-08-15T21:56:36.714851Z",
     "iopub.status.busy": "2025-08-15T21:56:36.714609Z",
     "iopub.status.idle": "2025-08-15T21:56:36.719947Z",
     "shell.execute_reply": "2025-08-15T21:56:36.719249Z"
    },
    "id": "mlMVbFJJRr_9",
    "papermill": {
     "duration": 0.014034,
     "end_time": "2025-08-15T21:56:36.721493",
     "exception": false,
     "start_time": "2025-08-15T21:56:36.707459",
     "status": "completed"
    },
    "tags": []
   },
   "outputs": [],
   "source": [
    "#for non vaccined patient keep vaccine type null else make it unknown\n",
    "df.loc[df['Vaccination_Status'] == 'Yes','Vaccine_Type'] = 'Unknown'"
   ]
  },
  {
   "cell_type": "code",
   "execution_count": 13,
   "id": "2890b7b3",
   "metadata": {
    "execution": {
     "iopub.execute_input": "2025-08-15T21:56:36.735721Z",
     "iopub.status.busy": "2025-08-15T21:56:36.735387Z",
     "iopub.status.idle": "2025-08-15T21:56:36.741155Z",
     "shell.execute_reply": "2025-08-15T21:56:36.740398Z"
    },
    "id": "1NKjB_A7Y3lL",
    "outputId": "8206840a-e560-4b2c-972f-f69a3c27f837",
    "papermill": {
     "duration": 0.014496,
     "end_time": "2025-08-15T21:56:36.742491",
     "exception": false,
     "start_time": "2025-08-15T21:56:36.727995",
     "status": "completed"
    },
    "tags": []
   },
   "outputs": [
    {
     "data": {
      "text/plain": [
       "array(['Unknown', nan], dtype=object)"
      ]
     },
     "execution_count": 13,
     "metadata": {},
     "output_type": "execute_result"
    }
   ],
   "source": [
    "#vaccine type is either unknown or nan drop column\n",
    "df['Vaccine_Type'].unique()"
   ]
  },
  {
   "cell_type": "code",
   "execution_count": 14,
   "id": "9ad4eefd",
   "metadata": {
    "execution": {
     "iopub.execute_input": "2025-08-15T21:56:36.756701Z",
     "iopub.status.busy": "2025-08-15T21:56:36.756427Z",
     "iopub.status.idle": "2025-08-15T21:56:36.779766Z",
     "shell.execute_reply": "2025-08-15T21:56:36.778815Z"
    },
    "id": "yjBzDkLZZjvR",
    "outputId": "b1d1a639-bb3f-4338-ef7c-ecd7aac9a7fc",
    "papermill": {
     "duration": 0.032477,
     "end_time": "2025-08-15T21:56:36.781362",
     "exception": false,
     "start_time": "2025-08-15T21:56:36.748885",
     "status": "completed"
    },
    "tags": []
   },
   "outputs": [
    {
     "data": {
      "text/html": [
       "<div>\n",
       "<style scoped>\n",
       "    .dataframe tbody tr th:only-of-type {\n",
       "        vertical-align: middle;\n",
       "    }\n",
       "\n",
       "    .dataframe tbody tr th {\n",
       "        vertical-align: top;\n",
       "    }\n",
       "\n",
       "    .dataframe thead th {\n",
       "        text-align: right;\n",
       "    }\n",
       "</style>\n",
       "<table border=\"1\" class=\"dataframe\">\n",
       "  <thead>\n",
       "    <tr style=\"text-align: right;\">\n",
       "      <th></th>\n",
       "      <th>Patient_ID</th>\n",
       "      <th>Age</th>\n",
       "      <th>Gender</th>\n",
       "      <th>Region</th>\n",
       "      <th>Preexisting_Condition</th>\n",
       "      <th>Date_of_Infection</th>\n",
       "      <th>COVID_Strain</th>\n",
       "      <th>Symptoms</th>\n",
       "      <th>Severity</th>\n",
       "      <th>Hospitalized</th>\n",
       "      <th>...</th>\n",
       "      <th>Date_of_Recovery</th>\n",
       "      <th>Reinfection</th>\n",
       "      <th>Date_of_Reinfection</th>\n",
       "      <th>Vaccination_Status</th>\n",
       "      <th>Doses_Received</th>\n",
       "      <th>Date_of_Last_Dose</th>\n",
       "      <th>Long_COVID_Symptoms</th>\n",
       "      <th>Occupation</th>\n",
       "      <th>Smoking_Status</th>\n",
       "      <th>BMI</th>\n",
       "    </tr>\n",
       "  </thead>\n",
       "  <tbody>\n",
       "    <tr>\n",
       "      <th>0</th>\n",
       "      <td>1</td>\n",
       "      <td>69</td>\n",
       "      <td>Male</td>\n",
       "      <td>Hovedstaden</td>\n",
       "      <td>Obesity</td>\n",
       "      <td>2022-06-21</td>\n",
       "      <td>Delta</td>\n",
       "      <td>Mild</td>\n",
       "      <td>Moderate</td>\n",
       "      <td>Yes</td>\n",
       "      <td>...</td>\n",
       "      <td>2023-04-19</td>\n",
       "      <td>No</td>\n",
       "      <td>NaN</td>\n",
       "      <td>Yes</td>\n",
       "      <td>1</td>\n",
       "      <td>2022-09-22</td>\n",
       "      <td>NaN</td>\n",
       "      <td>Healthcare</td>\n",
       "      <td>Never</td>\n",
       "      <td>27.7</td>\n",
       "    </tr>\n",
       "    <tr>\n",
       "      <th>1</th>\n",
       "      <td>2</td>\n",
       "      <td>38</td>\n",
       "      <td>Male</td>\n",
       "      <td>Sjælland</td>\n",
       "      <td>Asthma</td>\n",
       "      <td>2024-02-02</td>\n",
       "      <td>XBB.1.5</td>\n",
       "      <td>Mild</td>\n",
       "      <td>Moderate</td>\n",
       "      <td>No</td>\n",
       "      <td>...</td>\n",
       "      <td>2099-12-31</td>\n",
       "      <td>No</td>\n",
       "      <td>NaN</td>\n",
       "      <td>No</td>\n",
       "      <td>0</td>\n",
       "      <td>NaN</td>\n",
       "      <td>NaN</td>\n",
       "      <td>Healthcare</td>\n",
       "      <td>Never</td>\n",
       "      <td>21.9</td>\n",
       "    </tr>\n",
       "    <tr>\n",
       "      <th>2</th>\n",
       "      <td>3</td>\n",
       "      <td>41</td>\n",
       "      <td>Female</td>\n",
       "      <td>Syddanmark</td>\n",
       "      <td>Hypertension</td>\n",
       "      <td>2023-05-28</td>\n",
       "      <td>Beta</td>\n",
       "      <td>Mild</td>\n",
       "      <td>High</td>\n",
       "      <td>Yes</td>\n",
       "      <td>...</td>\n",
       "      <td>2099-12-31</td>\n",
       "      <td>No</td>\n",
       "      <td>NaN</td>\n",
       "      <td>Yes</td>\n",
       "      <td>3</td>\n",
       "      <td>2024-05-14</td>\n",
       "      <td>NaN</td>\n",
       "      <td>Unemployed</td>\n",
       "      <td>Never</td>\n",
       "      <td>22.7</td>\n",
       "    </tr>\n",
       "    <tr>\n",
       "      <th>3</th>\n",
       "      <td>4</td>\n",
       "      <td>81</td>\n",
       "      <td>Female</td>\n",
       "      <td>Hovedstaden</td>\n",
       "      <td>Asthma</td>\n",
       "      <td>2023-08-13</td>\n",
       "      <td>Delta</td>\n",
       "      <td>Severe</td>\n",
       "      <td>High</td>\n",
       "      <td>No</td>\n",
       "      <td>...</td>\n",
       "      <td>2025-02-09</td>\n",
       "      <td>Yes</td>\n",
       "      <td>2024-08-24</td>\n",
       "      <td>Yes</td>\n",
       "      <td>1</td>\n",
       "      <td>2024-10-31</td>\n",
       "      <td>NaN</td>\n",
       "      <td>Office Worker</td>\n",
       "      <td>Never</td>\n",
       "      <td>27.7</td>\n",
       "    </tr>\n",
       "    <tr>\n",
       "      <th>4</th>\n",
       "      <td>5</td>\n",
       "      <td>50</td>\n",
       "      <td>Female</td>\n",
       "      <td>Syddanmark</td>\n",
       "      <td>Cardiovascular</td>\n",
       "      <td>2023-03-10</td>\n",
       "      <td>Delta</td>\n",
       "      <td>Mild</td>\n",
       "      <td>High</td>\n",
       "      <td>No</td>\n",
       "      <td>...</td>\n",
       "      <td>2099-12-31</td>\n",
       "      <td>No</td>\n",
       "      <td>NaN</td>\n",
       "      <td>Yes</td>\n",
       "      <td>2</td>\n",
       "      <td>2023-07-05</td>\n",
       "      <td>NaN</td>\n",
       "      <td>Student</td>\n",
       "      <td>Never</td>\n",
       "      <td>11.9</td>\n",
       "    </tr>\n",
       "    <tr>\n",
       "      <th>...</th>\n",
       "      <td>...</td>\n",
       "      <td>...</td>\n",
       "      <td>...</td>\n",
       "      <td>...</td>\n",
       "      <td>...</td>\n",
       "      <td>...</td>\n",
       "      <td>...</td>\n",
       "      <td>...</td>\n",
       "      <td>...</td>\n",
       "      <td>...</td>\n",
       "      <td>...</td>\n",
       "      <td>...</td>\n",
       "      <td>...</td>\n",
       "      <td>...</td>\n",
       "      <td>...</td>\n",
       "      <td>...</td>\n",
       "      <td>...</td>\n",
       "      <td>...</td>\n",
       "      <td>...</td>\n",
       "      <td>...</td>\n",
       "      <td>...</td>\n",
       "    </tr>\n",
       "    <tr>\n",
       "      <th>2995</th>\n",
       "      <td>2996</td>\n",
       "      <td>43</td>\n",
       "      <td>Male</td>\n",
       "      <td>Nordjylland</td>\n",
       "      <td>Hypertension</td>\n",
       "      <td>2022-10-19</td>\n",
       "      <td>XBB.1.5</td>\n",
       "      <td>Severe</td>\n",
       "      <td>Critical</td>\n",
       "      <td>No</td>\n",
       "      <td>...</td>\n",
       "      <td>2099-12-31</td>\n",
       "      <td>No</td>\n",
       "      <td>NaN</td>\n",
       "      <td>Yes</td>\n",
       "      <td>1</td>\n",
       "      <td>2024-09-20</td>\n",
       "      <td>NaN</td>\n",
       "      <td>Driver</td>\n",
       "      <td>Never</td>\n",
       "      <td>22.0</td>\n",
       "    </tr>\n",
       "    <tr>\n",
       "      <th>2996</th>\n",
       "      <td>2997</td>\n",
       "      <td>36</td>\n",
       "      <td>Female</td>\n",
       "      <td>Syddanmark</td>\n",
       "      <td>Obesity</td>\n",
       "      <td>2022-12-16</td>\n",
       "      <td>Omicron</td>\n",
       "      <td>Moderate</td>\n",
       "      <td>Low</td>\n",
       "      <td>No</td>\n",
       "      <td>...</td>\n",
       "      <td>2099-12-31</td>\n",
       "      <td>No</td>\n",
       "      <td>NaN</td>\n",
       "      <td>Yes</td>\n",
       "      <td>2</td>\n",
       "      <td>2023-10-05</td>\n",
       "      <td>NaN</td>\n",
       "      <td>Healthcare</td>\n",
       "      <td>Never</td>\n",
       "      <td>27.8</td>\n",
       "    </tr>\n",
       "    <tr>\n",
       "      <th>2997</th>\n",
       "      <td>2998</td>\n",
       "      <td>75</td>\n",
       "      <td>Female</td>\n",
       "      <td>Sjælland</td>\n",
       "      <td>Cardiovascular</td>\n",
       "      <td>2023-09-30</td>\n",
       "      <td>Beta</td>\n",
       "      <td>Severe</td>\n",
       "      <td>Moderate</td>\n",
       "      <td>No</td>\n",
       "      <td>...</td>\n",
       "      <td>2099-12-31</td>\n",
       "      <td>No</td>\n",
       "      <td>NaN</td>\n",
       "      <td>Yes</td>\n",
       "      <td>3</td>\n",
       "      <td>2023-05-13</td>\n",
       "      <td>NaN</td>\n",
       "      <td>Teacher</td>\n",
       "      <td>Former</td>\n",
       "      <td>20.9</td>\n",
       "    </tr>\n",
       "    <tr>\n",
       "      <th>2998</th>\n",
       "      <td>2999</td>\n",
       "      <td>45</td>\n",
       "      <td>Female</td>\n",
       "      <td>Hovedstaden</td>\n",
       "      <td>Asthma</td>\n",
       "      <td>2023-06-06</td>\n",
       "      <td>Delta</td>\n",
       "      <td>Severe</td>\n",
       "      <td>Moderate</td>\n",
       "      <td>No</td>\n",
       "      <td>...</td>\n",
       "      <td>2099-12-31</td>\n",
       "      <td>No</td>\n",
       "      <td>NaN</td>\n",
       "      <td>Yes</td>\n",
       "      <td>1</td>\n",
       "      <td>2024-05-13</td>\n",
       "      <td>NaN</td>\n",
       "      <td>Student</td>\n",
       "      <td>Never</td>\n",
       "      <td>19.3</td>\n",
       "    </tr>\n",
       "    <tr>\n",
       "      <th>2999</th>\n",
       "      <td>3000</td>\n",
       "      <td>83</td>\n",
       "      <td>Female</td>\n",
       "      <td>Midtjylland</td>\n",
       "      <td>Obesity</td>\n",
       "      <td>2023-09-07</td>\n",
       "      <td>XBB.1.5</td>\n",
       "      <td>Moderate</td>\n",
       "      <td>Low</td>\n",
       "      <td>No</td>\n",
       "      <td>...</td>\n",
       "      <td>2099-12-31</td>\n",
       "      <td>No</td>\n",
       "      <td>NaN</td>\n",
       "      <td>No</td>\n",
       "      <td>0</td>\n",
       "      <td>NaN</td>\n",
       "      <td>NaN</td>\n",
       "      <td>Teacher</td>\n",
       "      <td>Former</td>\n",
       "      <td>33.0</td>\n",
       "    </tr>\n",
       "  </tbody>\n",
       "</table>\n",
       "<p>3000 rows × 25 columns</p>\n",
       "</div>"
      ],
      "text/plain": [
       "      Patient_ID  Age  Gender       Region Preexisting_Condition  \\\n",
       "0              1   69    Male  Hovedstaden               Obesity   \n",
       "1              2   38    Male     Sjælland                Asthma   \n",
       "2              3   41  Female   Syddanmark          Hypertension   \n",
       "3              4   81  Female  Hovedstaden                Asthma   \n",
       "4              5   50  Female   Syddanmark        Cardiovascular   \n",
       "...          ...  ...     ...          ...                   ...   \n",
       "2995        2996   43    Male  Nordjylland          Hypertension   \n",
       "2996        2997   36  Female   Syddanmark               Obesity   \n",
       "2997        2998   75  Female     Sjælland        Cardiovascular   \n",
       "2998        2999   45  Female  Hovedstaden                Asthma   \n",
       "2999        3000   83  Female  Midtjylland               Obesity   \n",
       "\n",
       "     Date_of_Infection COVID_Strain  Symptoms  Severity Hospitalized  ...  \\\n",
       "0           2022-06-21        Delta      Mild  Moderate          Yes  ...   \n",
       "1           2024-02-02      XBB.1.5      Mild  Moderate           No  ...   \n",
       "2           2023-05-28         Beta      Mild      High          Yes  ...   \n",
       "3           2023-08-13        Delta    Severe      High           No  ...   \n",
       "4           2023-03-10        Delta      Mild      High           No  ...   \n",
       "...                ...          ...       ...       ...          ...  ...   \n",
       "2995        2022-10-19      XBB.1.5    Severe  Critical           No  ...   \n",
       "2996        2022-12-16      Omicron  Moderate       Low           No  ...   \n",
       "2997        2023-09-30         Beta    Severe  Moderate           No  ...   \n",
       "2998        2023-06-06        Delta    Severe  Moderate           No  ...   \n",
       "2999        2023-09-07      XBB.1.5  Moderate       Low           No  ...   \n",
       "\n",
       "     Date_of_Recovery Reinfection Date_of_Reinfection Vaccination_Status  \\\n",
       "0          2023-04-19          No                 NaN                Yes   \n",
       "1          2099-12-31          No                 NaN                 No   \n",
       "2          2099-12-31          No                 NaN                Yes   \n",
       "3          2025-02-09         Yes          2024-08-24                Yes   \n",
       "4          2099-12-31          No                 NaN                Yes   \n",
       "...               ...         ...                 ...                ...   \n",
       "2995       2099-12-31          No                 NaN                Yes   \n",
       "2996       2099-12-31          No                 NaN                Yes   \n",
       "2997       2099-12-31          No                 NaN                Yes   \n",
       "2998       2099-12-31          No                 NaN                Yes   \n",
       "2999       2099-12-31          No                 NaN                 No   \n",
       "\n",
       "     Doses_Received Date_of_Last_Dose Long_COVID_Symptoms     Occupation  \\\n",
       "0                 1        2022-09-22                 NaN     Healthcare   \n",
       "1                 0               NaN                 NaN     Healthcare   \n",
       "2                 3        2024-05-14                 NaN     Unemployed   \n",
       "3                 1        2024-10-31                 NaN  Office Worker   \n",
       "4                 2        2023-07-05                 NaN        Student   \n",
       "...             ...               ...                 ...            ...   \n",
       "2995              1        2024-09-20                 NaN         Driver   \n",
       "2996              2        2023-10-05                 NaN     Healthcare   \n",
       "2997              3        2023-05-13                 NaN        Teacher   \n",
       "2998              1        2024-05-13                 NaN        Student   \n",
       "2999              0               NaN                 NaN        Teacher   \n",
       "\n",
       "     Smoking_Status   BMI  \n",
       "0             Never  27.7  \n",
       "1             Never  21.9  \n",
       "2             Never  22.7  \n",
       "3             Never  27.7  \n",
       "4             Never  11.9  \n",
       "...             ...   ...  \n",
       "2995          Never  22.0  \n",
       "2996          Never  27.8  \n",
       "2997         Former  20.9  \n",
       "2998          Never  19.3  \n",
       "2999         Former  33.0  \n",
       "\n",
       "[3000 rows x 25 columns]"
      ]
     },
     "execution_count": 14,
     "metadata": {},
     "output_type": "execute_result"
    }
   ],
   "source": [
    "df.drop('Vaccine_Type',axis=1)"
   ]
  },
  {
   "cell_type": "code",
   "execution_count": 15,
   "id": "ca1b6d9f",
   "metadata": {
    "execution": {
     "iopub.execute_input": "2025-08-15T21:56:36.796446Z",
     "iopub.status.busy": "2025-08-15T21:56:36.796157Z",
     "iopub.status.idle": "2025-08-15T21:56:36.804141Z",
     "shell.execute_reply": "2025-08-15T21:56:36.803180Z"
    },
    "id": "hHYy4VThSrpn",
    "outputId": "ff4cd002-3d25-44d3-8f26-f4a94188c9ad",
    "papermill": {
     "duration": 0.017204,
     "end_time": "2025-08-15T21:56:36.805453",
     "exception": false,
     "start_time": "2025-08-15T21:56:36.788249",
     "status": "completed"
    },
    "tags": []
   },
   "outputs": [
    {
     "name": "stdout",
     "output_type": "stream",
     "text": [
      "Vaccination_Status\n",
      "No    1528\n",
      "Name: count, dtype: int64\n"
     ]
    }
   ],
   "source": [
    "#all non vaccinated patients have null values at the Date_of_Last_Dose , keep null\n",
    "print(df[df['Date_of_Last_Dose'].isnull()]['Vaccination_Status'].value_counts())"
   ]
  },
  {
   "cell_type": "code",
   "execution_count": 16,
   "id": "d97322c1",
   "metadata": {
    "execution": {
     "iopub.execute_input": "2025-08-15T21:56:36.820799Z",
     "iopub.status.busy": "2025-08-15T21:56:36.820550Z",
     "iopub.status.idle": "2025-08-15T21:56:36.825926Z",
     "shell.execute_reply": "2025-08-15T21:56:36.825154Z"
    },
    "id": "oSdfdchfSjhd",
    "papermill": {
     "duration": 0.015018,
     "end_time": "2025-08-15T21:56:36.827436",
     "exception": false,
     "start_time": "2025-08-15T21:56:36.812418",
     "status": "completed"
    },
    "tags": []
   },
   "outputs": [],
   "source": [
    "#assign null covid symptoms with none\n",
    "df['Long_COVID_Symptoms'] = df['Long_COVID_Symptoms'].fillna('None')"
   ]
  },
  {
   "cell_type": "code",
   "execution_count": 17,
   "id": "40fd158c",
   "metadata": {
    "execution": {
     "iopub.execute_input": "2025-08-15T21:56:36.842370Z",
     "iopub.status.busy": "2025-08-15T21:56:36.842134Z",
     "iopub.status.idle": "2025-08-15T21:56:36.856295Z",
     "shell.execute_reply": "2025-08-15T21:56:36.855355Z"
    },
    "id": "jVyfu1XHE9Cw",
    "outputId": "b56e9bc0-e0d3-4944-9451-320378407bf6",
    "papermill": {
     "duration": 0.023711,
     "end_time": "2025-08-15T21:56:36.858091",
     "exception": false,
     "start_time": "2025-08-15T21:56:36.834380",
     "status": "completed"
    },
    "tags": []
   },
   "outputs": [
    {
     "data": {
      "text/plain": [
       "0"
      ]
     },
     "execution_count": 17,
     "metadata": {},
     "output_type": "execute_result"
    }
   ],
   "source": [
    "df.duplicated().sum()"
   ]
  },
  {
   "cell_type": "code",
   "execution_count": 18,
   "id": "b0906f62",
   "metadata": {
    "execution": {
     "iopub.execute_input": "2025-08-15T21:56:36.874258Z",
     "iopub.status.busy": "2025-08-15T21:56:36.873409Z",
     "iopub.status.idle": "2025-08-15T21:56:36.895038Z",
     "shell.execute_reply": "2025-08-15T21:56:36.894295Z"
    },
    "id": "h5voGh1iFM0k",
    "outputId": "2f051ae6-f4a2-4dc0-9238-0bd544cc483b",
    "papermill": {
     "duration": 0.031324,
     "end_time": "2025-08-15T21:56:36.896409",
     "exception": false,
     "start_time": "2025-08-15T21:56:36.865085",
     "status": "completed"
    },
    "tags": []
   },
   "outputs": [
    {
     "data": {
      "text/html": [
       "<div>\n",
       "<style scoped>\n",
       "    .dataframe tbody tr th:only-of-type {\n",
       "        vertical-align: middle;\n",
       "    }\n",
       "\n",
       "    .dataframe tbody tr th {\n",
       "        vertical-align: top;\n",
       "    }\n",
       "\n",
       "    .dataframe thead th {\n",
       "        text-align: right;\n",
       "    }\n",
       "</style>\n",
       "<table border=\"1\" class=\"dataframe\">\n",
       "  <thead>\n",
       "    <tr style=\"text-align: right;\">\n",
       "      <th></th>\n",
       "      <th>Patient_ID</th>\n",
       "      <th>Age</th>\n",
       "      <th>Gender</th>\n",
       "      <th>Region</th>\n",
       "      <th>Preexisting_Condition</th>\n",
       "      <th>Date_of_Infection</th>\n",
       "      <th>COVID_Strain</th>\n",
       "      <th>Symptoms</th>\n",
       "      <th>Severity</th>\n",
       "      <th>Hospitalized</th>\n",
       "      <th>...</th>\n",
       "      <th>Reinfection</th>\n",
       "      <th>Date_of_Reinfection</th>\n",
       "      <th>Vaccination_Status</th>\n",
       "      <th>Vaccine_Type</th>\n",
       "      <th>Doses_Received</th>\n",
       "      <th>Date_of_Last_Dose</th>\n",
       "      <th>Long_COVID_Symptoms</th>\n",
       "      <th>Occupation</th>\n",
       "      <th>Smoking_Status</th>\n",
       "      <th>BMI</th>\n",
       "    </tr>\n",
       "  </thead>\n",
       "  <tbody>\n",
       "    <tr>\n",
       "      <th>0</th>\n",
       "      <td>1</td>\n",
       "      <td>69</td>\n",
       "      <td>Male</td>\n",
       "      <td>Hovedstaden</td>\n",
       "      <td>Obesity</td>\n",
       "      <td>2022-06-21</td>\n",
       "      <td>Delta</td>\n",
       "      <td>Mild</td>\n",
       "      <td>Moderate</td>\n",
       "      <td>Yes</td>\n",
       "      <td>...</td>\n",
       "      <td>No</td>\n",
       "      <td>NaN</td>\n",
       "      <td>Yes</td>\n",
       "      <td>Unknown</td>\n",
       "      <td>1</td>\n",
       "      <td>2022-09-22</td>\n",
       "      <td>None</td>\n",
       "      <td>Healthcare</td>\n",
       "      <td>Never</td>\n",
       "      <td>27.7</td>\n",
       "    </tr>\n",
       "    <tr>\n",
       "      <th>1</th>\n",
       "      <td>2</td>\n",
       "      <td>38</td>\n",
       "      <td>Male</td>\n",
       "      <td>Sjælland</td>\n",
       "      <td>Asthma</td>\n",
       "      <td>2024-02-02</td>\n",
       "      <td>XBB.1.5</td>\n",
       "      <td>Mild</td>\n",
       "      <td>Moderate</td>\n",
       "      <td>No</td>\n",
       "      <td>...</td>\n",
       "      <td>No</td>\n",
       "      <td>NaN</td>\n",
       "      <td>No</td>\n",
       "      <td>NaN</td>\n",
       "      <td>0</td>\n",
       "      <td>NaN</td>\n",
       "      <td>None</td>\n",
       "      <td>Healthcare</td>\n",
       "      <td>Never</td>\n",
       "      <td>21.9</td>\n",
       "    </tr>\n",
       "    <tr>\n",
       "      <th>2</th>\n",
       "      <td>3</td>\n",
       "      <td>41</td>\n",
       "      <td>Female</td>\n",
       "      <td>Syddanmark</td>\n",
       "      <td>Hypertension</td>\n",
       "      <td>2023-05-28</td>\n",
       "      <td>Beta</td>\n",
       "      <td>Mild</td>\n",
       "      <td>High</td>\n",
       "      <td>Yes</td>\n",
       "      <td>...</td>\n",
       "      <td>No</td>\n",
       "      <td>NaN</td>\n",
       "      <td>Yes</td>\n",
       "      <td>Unknown</td>\n",
       "      <td>3</td>\n",
       "      <td>2024-05-14</td>\n",
       "      <td>None</td>\n",
       "      <td>Unemployed</td>\n",
       "      <td>Never</td>\n",
       "      <td>22.7</td>\n",
       "    </tr>\n",
       "    <tr>\n",
       "      <th>3</th>\n",
       "      <td>4</td>\n",
       "      <td>81</td>\n",
       "      <td>Female</td>\n",
       "      <td>Hovedstaden</td>\n",
       "      <td>Asthma</td>\n",
       "      <td>2023-08-13</td>\n",
       "      <td>Delta</td>\n",
       "      <td>Severe</td>\n",
       "      <td>High</td>\n",
       "      <td>No</td>\n",
       "      <td>...</td>\n",
       "      <td>Yes</td>\n",
       "      <td>2024-08-24</td>\n",
       "      <td>Yes</td>\n",
       "      <td>Unknown</td>\n",
       "      <td>1</td>\n",
       "      <td>2024-10-31</td>\n",
       "      <td>None</td>\n",
       "      <td>Office Worker</td>\n",
       "      <td>Never</td>\n",
       "      <td>27.7</td>\n",
       "    </tr>\n",
       "    <tr>\n",
       "      <th>4</th>\n",
       "      <td>5</td>\n",
       "      <td>50</td>\n",
       "      <td>Female</td>\n",
       "      <td>Syddanmark</td>\n",
       "      <td>Cardiovascular</td>\n",
       "      <td>2023-03-10</td>\n",
       "      <td>Delta</td>\n",
       "      <td>Mild</td>\n",
       "      <td>High</td>\n",
       "      <td>No</td>\n",
       "      <td>...</td>\n",
       "      <td>No</td>\n",
       "      <td>NaN</td>\n",
       "      <td>Yes</td>\n",
       "      <td>Unknown</td>\n",
       "      <td>2</td>\n",
       "      <td>2023-07-05</td>\n",
       "      <td>None</td>\n",
       "      <td>Student</td>\n",
       "      <td>Never</td>\n",
       "      <td>11.9</td>\n",
       "    </tr>\n",
       "    <tr>\n",
       "      <th>...</th>\n",
       "      <td>...</td>\n",
       "      <td>...</td>\n",
       "      <td>...</td>\n",
       "      <td>...</td>\n",
       "      <td>...</td>\n",
       "      <td>...</td>\n",
       "      <td>...</td>\n",
       "      <td>...</td>\n",
       "      <td>...</td>\n",
       "      <td>...</td>\n",
       "      <td>...</td>\n",
       "      <td>...</td>\n",
       "      <td>...</td>\n",
       "      <td>...</td>\n",
       "      <td>...</td>\n",
       "      <td>...</td>\n",
       "      <td>...</td>\n",
       "      <td>...</td>\n",
       "      <td>...</td>\n",
       "      <td>...</td>\n",
       "      <td>...</td>\n",
       "    </tr>\n",
       "    <tr>\n",
       "      <th>2995</th>\n",
       "      <td>2996</td>\n",
       "      <td>43</td>\n",
       "      <td>Male</td>\n",
       "      <td>Nordjylland</td>\n",
       "      <td>Hypertension</td>\n",
       "      <td>2022-10-19</td>\n",
       "      <td>XBB.1.5</td>\n",
       "      <td>Severe</td>\n",
       "      <td>Critical</td>\n",
       "      <td>No</td>\n",
       "      <td>...</td>\n",
       "      <td>No</td>\n",
       "      <td>NaN</td>\n",
       "      <td>Yes</td>\n",
       "      <td>Unknown</td>\n",
       "      <td>1</td>\n",
       "      <td>2024-09-20</td>\n",
       "      <td>None</td>\n",
       "      <td>Driver</td>\n",
       "      <td>Never</td>\n",
       "      <td>22.0</td>\n",
       "    </tr>\n",
       "    <tr>\n",
       "      <th>2996</th>\n",
       "      <td>2997</td>\n",
       "      <td>36</td>\n",
       "      <td>Female</td>\n",
       "      <td>Syddanmark</td>\n",
       "      <td>Obesity</td>\n",
       "      <td>2022-12-16</td>\n",
       "      <td>Omicron</td>\n",
       "      <td>Moderate</td>\n",
       "      <td>Low</td>\n",
       "      <td>No</td>\n",
       "      <td>...</td>\n",
       "      <td>No</td>\n",
       "      <td>NaN</td>\n",
       "      <td>Yes</td>\n",
       "      <td>Unknown</td>\n",
       "      <td>2</td>\n",
       "      <td>2023-10-05</td>\n",
       "      <td>None</td>\n",
       "      <td>Healthcare</td>\n",
       "      <td>Never</td>\n",
       "      <td>27.8</td>\n",
       "    </tr>\n",
       "    <tr>\n",
       "      <th>2997</th>\n",
       "      <td>2998</td>\n",
       "      <td>75</td>\n",
       "      <td>Female</td>\n",
       "      <td>Sjælland</td>\n",
       "      <td>Cardiovascular</td>\n",
       "      <td>2023-09-30</td>\n",
       "      <td>Beta</td>\n",
       "      <td>Severe</td>\n",
       "      <td>Moderate</td>\n",
       "      <td>No</td>\n",
       "      <td>...</td>\n",
       "      <td>No</td>\n",
       "      <td>NaN</td>\n",
       "      <td>Yes</td>\n",
       "      <td>Unknown</td>\n",
       "      <td>3</td>\n",
       "      <td>2023-05-13</td>\n",
       "      <td>None</td>\n",
       "      <td>Teacher</td>\n",
       "      <td>Former</td>\n",
       "      <td>20.9</td>\n",
       "    </tr>\n",
       "    <tr>\n",
       "      <th>2998</th>\n",
       "      <td>2999</td>\n",
       "      <td>45</td>\n",
       "      <td>Female</td>\n",
       "      <td>Hovedstaden</td>\n",
       "      <td>Asthma</td>\n",
       "      <td>2023-06-06</td>\n",
       "      <td>Delta</td>\n",
       "      <td>Severe</td>\n",
       "      <td>Moderate</td>\n",
       "      <td>No</td>\n",
       "      <td>...</td>\n",
       "      <td>No</td>\n",
       "      <td>NaN</td>\n",
       "      <td>Yes</td>\n",
       "      <td>Unknown</td>\n",
       "      <td>1</td>\n",
       "      <td>2024-05-13</td>\n",
       "      <td>None</td>\n",
       "      <td>Student</td>\n",
       "      <td>Never</td>\n",
       "      <td>19.3</td>\n",
       "    </tr>\n",
       "    <tr>\n",
       "      <th>2999</th>\n",
       "      <td>3000</td>\n",
       "      <td>83</td>\n",
       "      <td>Female</td>\n",
       "      <td>Midtjylland</td>\n",
       "      <td>Obesity</td>\n",
       "      <td>2023-09-07</td>\n",
       "      <td>XBB.1.5</td>\n",
       "      <td>Moderate</td>\n",
       "      <td>Low</td>\n",
       "      <td>No</td>\n",
       "      <td>...</td>\n",
       "      <td>No</td>\n",
       "      <td>NaN</td>\n",
       "      <td>No</td>\n",
       "      <td>NaN</td>\n",
       "      <td>0</td>\n",
       "      <td>NaN</td>\n",
       "      <td>None</td>\n",
       "      <td>Teacher</td>\n",
       "      <td>Former</td>\n",
       "      <td>33.0</td>\n",
       "    </tr>\n",
       "  </tbody>\n",
       "</table>\n",
       "<p>3000 rows × 26 columns</p>\n",
       "</div>"
      ],
      "text/plain": [
       "      Patient_ID  Age  Gender       Region Preexisting_Condition  \\\n",
       "0              1   69    Male  Hovedstaden               Obesity   \n",
       "1              2   38    Male     Sjælland                Asthma   \n",
       "2              3   41  Female   Syddanmark          Hypertension   \n",
       "3              4   81  Female  Hovedstaden                Asthma   \n",
       "4              5   50  Female   Syddanmark        Cardiovascular   \n",
       "...          ...  ...     ...          ...                   ...   \n",
       "2995        2996   43    Male  Nordjylland          Hypertension   \n",
       "2996        2997   36  Female   Syddanmark               Obesity   \n",
       "2997        2998   75  Female     Sjælland        Cardiovascular   \n",
       "2998        2999   45  Female  Hovedstaden                Asthma   \n",
       "2999        3000   83  Female  Midtjylland               Obesity   \n",
       "\n",
       "     Date_of_Infection COVID_Strain  Symptoms  Severity Hospitalized  ...  \\\n",
       "0           2022-06-21        Delta      Mild  Moderate          Yes  ...   \n",
       "1           2024-02-02      XBB.1.5      Mild  Moderate           No  ...   \n",
       "2           2023-05-28         Beta      Mild      High          Yes  ...   \n",
       "3           2023-08-13        Delta    Severe      High           No  ...   \n",
       "4           2023-03-10        Delta      Mild      High           No  ...   \n",
       "...                ...          ...       ...       ...          ...  ...   \n",
       "2995        2022-10-19      XBB.1.5    Severe  Critical           No  ...   \n",
       "2996        2022-12-16      Omicron  Moderate       Low           No  ...   \n",
       "2997        2023-09-30         Beta    Severe  Moderate           No  ...   \n",
       "2998        2023-06-06        Delta    Severe  Moderate           No  ...   \n",
       "2999        2023-09-07      XBB.1.5  Moderate       Low           No  ...   \n",
       "\n",
       "     Reinfection Date_of_Reinfection Vaccination_Status Vaccine_Type  \\\n",
       "0             No                 NaN                Yes      Unknown   \n",
       "1             No                 NaN                 No          NaN   \n",
       "2             No                 NaN                Yes      Unknown   \n",
       "3            Yes          2024-08-24                Yes      Unknown   \n",
       "4             No                 NaN                Yes      Unknown   \n",
       "...          ...                 ...                ...          ...   \n",
       "2995          No                 NaN                Yes      Unknown   \n",
       "2996          No                 NaN                Yes      Unknown   \n",
       "2997          No                 NaN                Yes      Unknown   \n",
       "2998          No                 NaN                Yes      Unknown   \n",
       "2999          No                 NaN                 No          NaN   \n",
       "\n",
       "     Doses_Received Date_of_Last_Dose Long_COVID_Symptoms     Occupation  \\\n",
       "0                 1        2022-09-22                None     Healthcare   \n",
       "1                 0               NaN                None     Healthcare   \n",
       "2                 3        2024-05-14                None     Unemployed   \n",
       "3                 1        2024-10-31                None  Office Worker   \n",
       "4                 2        2023-07-05                None        Student   \n",
       "...             ...               ...                 ...            ...   \n",
       "2995              1        2024-09-20                None         Driver   \n",
       "2996              2        2023-10-05                None     Healthcare   \n",
       "2997              3        2023-05-13                None        Teacher   \n",
       "2998              1        2024-05-13                None        Student   \n",
       "2999              0               NaN                None        Teacher   \n",
       "\n",
       "     Smoking_Status   BMI  \n",
       "0             Never  27.7  \n",
       "1             Never  21.9  \n",
       "2             Never  22.7  \n",
       "3             Never  27.7  \n",
       "4             Never  11.9  \n",
       "...             ...   ...  \n",
       "2995          Never  22.0  \n",
       "2996          Never  27.8  \n",
       "2997         Former  20.9  \n",
       "2998          Never  19.3  \n",
       "2999         Former  33.0  \n",
       "\n",
       "[3000 rows x 26 columns]"
      ]
     },
     "execution_count": 18,
     "metadata": {},
     "output_type": "execute_result"
    }
   ],
   "source": [
    "df"
   ]
  },
  {
   "cell_type": "code",
   "execution_count": 19,
   "id": "b44f7c4c",
   "metadata": {
    "execution": {
     "iopub.execute_input": "2025-08-15T21:56:36.912213Z",
     "iopub.status.busy": "2025-08-15T21:56:36.911832Z",
     "iopub.status.idle": "2025-08-15T21:56:36.934986Z",
     "shell.execute_reply": "2025-08-15T21:56:36.934021Z"
    },
    "id": "vmu1CTlOU0wv",
    "outputId": "24b33363-8f1c-4e6f-9b49-cd6076b3a918",
    "papermill": {
     "duration": 0.032624,
     "end_time": "2025-08-15T21:56:36.936446",
     "exception": false,
     "start_time": "2025-08-15T21:56:36.903822",
     "status": "completed"
    },
    "tags": []
   },
   "outputs": [
    {
     "data": {
      "text/html": [
       "<div>\n",
       "<style scoped>\n",
       "    .dataframe tbody tr th:only-of-type {\n",
       "        vertical-align: middle;\n",
       "    }\n",
       "\n",
       "    .dataframe tbody tr th {\n",
       "        vertical-align: top;\n",
       "    }\n",
       "\n",
       "    .dataframe thead th {\n",
       "        text-align: right;\n",
       "    }\n",
       "</style>\n",
       "<table border=\"1\" class=\"dataframe\">\n",
       "  <thead>\n",
       "    <tr style=\"text-align: right;\">\n",
       "      <th></th>\n",
       "      <th>Age</th>\n",
       "      <th>Gender</th>\n",
       "      <th>Region</th>\n",
       "      <th>Preexisting_Condition</th>\n",
       "      <th>Date_of_Infection</th>\n",
       "      <th>COVID_Strain</th>\n",
       "      <th>Symptoms</th>\n",
       "      <th>Severity</th>\n",
       "      <th>Hospitalized</th>\n",
       "      <th>Hospital_Admission_Date</th>\n",
       "      <th>...</th>\n",
       "      <th>Reinfection</th>\n",
       "      <th>Date_of_Reinfection</th>\n",
       "      <th>Vaccination_Status</th>\n",
       "      <th>Vaccine_Type</th>\n",
       "      <th>Doses_Received</th>\n",
       "      <th>Date_of_Last_Dose</th>\n",
       "      <th>Long_COVID_Symptoms</th>\n",
       "      <th>Occupation</th>\n",
       "      <th>Smoking_Status</th>\n",
       "      <th>BMI</th>\n",
       "    </tr>\n",
       "  </thead>\n",
       "  <tbody>\n",
       "    <tr>\n",
       "      <th>0</th>\n",
       "      <td>69</td>\n",
       "      <td>Male</td>\n",
       "      <td>Hovedstaden</td>\n",
       "      <td>Obesity</td>\n",
       "      <td>2022-06-21</td>\n",
       "      <td>Delta</td>\n",
       "      <td>Mild</td>\n",
       "      <td>Moderate</td>\n",
       "      <td>Yes</td>\n",
       "      <td>2025-01-13</td>\n",
       "      <td>...</td>\n",
       "      <td>No</td>\n",
       "      <td>NaN</td>\n",
       "      <td>Yes</td>\n",
       "      <td>Unknown</td>\n",
       "      <td>1</td>\n",
       "      <td>2022-09-22</td>\n",
       "      <td>None</td>\n",
       "      <td>Healthcare</td>\n",
       "      <td>Never</td>\n",
       "      <td>27.7</td>\n",
       "    </tr>\n",
       "    <tr>\n",
       "      <th>1</th>\n",
       "      <td>38</td>\n",
       "      <td>Male</td>\n",
       "      <td>Sjælland</td>\n",
       "      <td>Asthma</td>\n",
       "      <td>2024-02-02</td>\n",
       "      <td>XBB.1.5</td>\n",
       "      <td>Mild</td>\n",
       "      <td>Moderate</td>\n",
       "      <td>No</td>\n",
       "      <td>&lt;NA&gt;</td>\n",
       "      <td>...</td>\n",
       "      <td>No</td>\n",
       "      <td>NaN</td>\n",
       "      <td>No</td>\n",
       "      <td>NaN</td>\n",
       "      <td>0</td>\n",
       "      <td>NaN</td>\n",
       "      <td>None</td>\n",
       "      <td>Healthcare</td>\n",
       "      <td>Never</td>\n",
       "      <td>21.9</td>\n",
       "    </tr>\n",
       "    <tr>\n",
       "      <th>2</th>\n",
       "      <td>41</td>\n",
       "      <td>Female</td>\n",
       "      <td>Syddanmark</td>\n",
       "      <td>Hypertension</td>\n",
       "      <td>2023-05-28</td>\n",
       "      <td>Beta</td>\n",
       "      <td>Mild</td>\n",
       "      <td>High</td>\n",
       "      <td>Yes</td>\n",
       "      <td>2025-03-07</td>\n",
       "      <td>...</td>\n",
       "      <td>No</td>\n",
       "      <td>NaN</td>\n",
       "      <td>Yes</td>\n",
       "      <td>Unknown</td>\n",
       "      <td>3</td>\n",
       "      <td>2024-05-14</td>\n",
       "      <td>None</td>\n",
       "      <td>Unemployed</td>\n",
       "      <td>Never</td>\n",
       "      <td>22.7</td>\n",
       "    </tr>\n",
       "    <tr>\n",
       "      <th>3</th>\n",
       "      <td>81</td>\n",
       "      <td>Female</td>\n",
       "      <td>Hovedstaden</td>\n",
       "      <td>Asthma</td>\n",
       "      <td>2023-08-13</td>\n",
       "      <td>Delta</td>\n",
       "      <td>Severe</td>\n",
       "      <td>High</td>\n",
       "      <td>No</td>\n",
       "      <td>&lt;NA&gt;</td>\n",
       "      <td>...</td>\n",
       "      <td>Yes</td>\n",
       "      <td>2024-08-24</td>\n",
       "      <td>Yes</td>\n",
       "      <td>Unknown</td>\n",
       "      <td>1</td>\n",
       "      <td>2024-10-31</td>\n",
       "      <td>None</td>\n",
       "      <td>Office Worker</td>\n",
       "      <td>Never</td>\n",
       "      <td>27.7</td>\n",
       "    </tr>\n",
       "    <tr>\n",
       "      <th>4</th>\n",
       "      <td>50</td>\n",
       "      <td>Female</td>\n",
       "      <td>Syddanmark</td>\n",
       "      <td>Cardiovascular</td>\n",
       "      <td>2023-03-10</td>\n",
       "      <td>Delta</td>\n",
       "      <td>Mild</td>\n",
       "      <td>High</td>\n",
       "      <td>No</td>\n",
       "      <td>&lt;NA&gt;</td>\n",
       "      <td>...</td>\n",
       "      <td>No</td>\n",
       "      <td>NaN</td>\n",
       "      <td>Yes</td>\n",
       "      <td>Unknown</td>\n",
       "      <td>2</td>\n",
       "      <td>2023-07-05</td>\n",
       "      <td>None</td>\n",
       "      <td>Student</td>\n",
       "      <td>Never</td>\n",
       "      <td>11.9</td>\n",
       "    </tr>\n",
       "    <tr>\n",
       "      <th>...</th>\n",
       "      <td>...</td>\n",
       "      <td>...</td>\n",
       "      <td>...</td>\n",
       "      <td>...</td>\n",
       "      <td>...</td>\n",
       "      <td>...</td>\n",
       "      <td>...</td>\n",
       "      <td>...</td>\n",
       "      <td>...</td>\n",
       "      <td>...</td>\n",
       "      <td>...</td>\n",
       "      <td>...</td>\n",
       "      <td>...</td>\n",
       "      <td>...</td>\n",
       "      <td>...</td>\n",
       "      <td>...</td>\n",
       "      <td>...</td>\n",
       "      <td>...</td>\n",
       "      <td>...</td>\n",
       "      <td>...</td>\n",
       "      <td>...</td>\n",
       "    </tr>\n",
       "    <tr>\n",
       "      <th>2995</th>\n",
       "      <td>43</td>\n",
       "      <td>Male</td>\n",
       "      <td>Nordjylland</td>\n",
       "      <td>Hypertension</td>\n",
       "      <td>2022-10-19</td>\n",
       "      <td>XBB.1.5</td>\n",
       "      <td>Severe</td>\n",
       "      <td>Critical</td>\n",
       "      <td>No</td>\n",
       "      <td>&lt;NA&gt;</td>\n",
       "      <td>...</td>\n",
       "      <td>No</td>\n",
       "      <td>NaN</td>\n",
       "      <td>Yes</td>\n",
       "      <td>Unknown</td>\n",
       "      <td>1</td>\n",
       "      <td>2024-09-20</td>\n",
       "      <td>None</td>\n",
       "      <td>Driver</td>\n",
       "      <td>Never</td>\n",
       "      <td>22.0</td>\n",
       "    </tr>\n",
       "    <tr>\n",
       "      <th>2996</th>\n",
       "      <td>36</td>\n",
       "      <td>Female</td>\n",
       "      <td>Syddanmark</td>\n",
       "      <td>Obesity</td>\n",
       "      <td>2022-12-16</td>\n",
       "      <td>Omicron</td>\n",
       "      <td>Moderate</td>\n",
       "      <td>Low</td>\n",
       "      <td>No</td>\n",
       "      <td>&lt;NA&gt;</td>\n",
       "      <td>...</td>\n",
       "      <td>No</td>\n",
       "      <td>NaN</td>\n",
       "      <td>Yes</td>\n",
       "      <td>Unknown</td>\n",
       "      <td>2</td>\n",
       "      <td>2023-10-05</td>\n",
       "      <td>None</td>\n",
       "      <td>Healthcare</td>\n",
       "      <td>Never</td>\n",
       "      <td>27.8</td>\n",
       "    </tr>\n",
       "    <tr>\n",
       "      <th>2997</th>\n",
       "      <td>75</td>\n",
       "      <td>Female</td>\n",
       "      <td>Sjælland</td>\n",
       "      <td>Cardiovascular</td>\n",
       "      <td>2023-09-30</td>\n",
       "      <td>Beta</td>\n",
       "      <td>Severe</td>\n",
       "      <td>Moderate</td>\n",
       "      <td>No</td>\n",
       "      <td>&lt;NA&gt;</td>\n",
       "      <td>...</td>\n",
       "      <td>No</td>\n",
       "      <td>NaN</td>\n",
       "      <td>Yes</td>\n",
       "      <td>Unknown</td>\n",
       "      <td>3</td>\n",
       "      <td>2023-05-13</td>\n",
       "      <td>None</td>\n",
       "      <td>Teacher</td>\n",
       "      <td>Former</td>\n",
       "      <td>20.9</td>\n",
       "    </tr>\n",
       "    <tr>\n",
       "      <th>2998</th>\n",
       "      <td>45</td>\n",
       "      <td>Female</td>\n",
       "      <td>Hovedstaden</td>\n",
       "      <td>Asthma</td>\n",
       "      <td>2023-06-06</td>\n",
       "      <td>Delta</td>\n",
       "      <td>Severe</td>\n",
       "      <td>Moderate</td>\n",
       "      <td>No</td>\n",
       "      <td>&lt;NA&gt;</td>\n",
       "      <td>...</td>\n",
       "      <td>No</td>\n",
       "      <td>NaN</td>\n",
       "      <td>Yes</td>\n",
       "      <td>Unknown</td>\n",
       "      <td>1</td>\n",
       "      <td>2024-05-13</td>\n",
       "      <td>None</td>\n",
       "      <td>Student</td>\n",
       "      <td>Never</td>\n",
       "      <td>19.3</td>\n",
       "    </tr>\n",
       "    <tr>\n",
       "      <th>2999</th>\n",
       "      <td>83</td>\n",
       "      <td>Female</td>\n",
       "      <td>Midtjylland</td>\n",
       "      <td>Obesity</td>\n",
       "      <td>2023-09-07</td>\n",
       "      <td>XBB.1.5</td>\n",
       "      <td>Moderate</td>\n",
       "      <td>Low</td>\n",
       "      <td>No</td>\n",
       "      <td>&lt;NA&gt;</td>\n",
       "      <td>...</td>\n",
       "      <td>No</td>\n",
       "      <td>NaN</td>\n",
       "      <td>No</td>\n",
       "      <td>NaN</td>\n",
       "      <td>0</td>\n",
       "      <td>NaN</td>\n",
       "      <td>None</td>\n",
       "      <td>Teacher</td>\n",
       "      <td>Former</td>\n",
       "      <td>33.0</td>\n",
       "    </tr>\n",
       "  </tbody>\n",
       "</table>\n",
       "<p>3000 rows × 25 columns</p>\n",
       "</div>"
      ],
      "text/plain": [
       "      Age  Gender       Region Preexisting_Condition Date_of_Infection  \\\n",
       "0      69    Male  Hovedstaden               Obesity        2022-06-21   \n",
       "1      38    Male     Sjælland                Asthma        2024-02-02   \n",
       "2      41  Female   Syddanmark          Hypertension        2023-05-28   \n",
       "3      81  Female  Hovedstaden                Asthma        2023-08-13   \n",
       "4      50  Female   Syddanmark        Cardiovascular        2023-03-10   \n",
       "...   ...     ...          ...                   ...               ...   \n",
       "2995   43    Male  Nordjylland          Hypertension        2022-10-19   \n",
       "2996   36  Female   Syddanmark               Obesity        2022-12-16   \n",
       "2997   75  Female     Sjælland        Cardiovascular        2023-09-30   \n",
       "2998   45  Female  Hovedstaden                Asthma        2023-06-06   \n",
       "2999   83  Female  Midtjylland               Obesity        2023-09-07   \n",
       "\n",
       "     COVID_Strain  Symptoms  Severity Hospitalized Hospital_Admission_Date  \\\n",
       "0           Delta      Mild  Moderate          Yes              2025-01-13   \n",
       "1         XBB.1.5      Mild  Moderate           No                    <NA>   \n",
       "2            Beta      Mild      High          Yes              2025-03-07   \n",
       "3           Delta    Severe      High           No                    <NA>   \n",
       "4           Delta      Mild      High           No                    <NA>   \n",
       "...           ...       ...       ...          ...                     ...   \n",
       "2995      XBB.1.5    Severe  Critical           No                    <NA>   \n",
       "2996      Omicron  Moderate       Low           No                    <NA>   \n",
       "2997         Beta    Severe  Moderate           No                    <NA>   \n",
       "2998        Delta    Severe  Moderate           No                    <NA>   \n",
       "2999      XBB.1.5  Moderate       Low           No                    <NA>   \n",
       "\n",
       "      ... Reinfection Date_of_Reinfection Vaccination_Status Vaccine_Type  \\\n",
       "0     ...          No                 NaN                Yes      Unknown   \n",
       "1     ...          No                 NaN                 No          NaN   \n",
       "2     ...          No                 NaN                Yes      Unknown   \n",
       "3     ...         Yes          2024-08-24                Yes      Unknown   \n",
       "4     ...          No                 NaN                Yes      Unknown   \n",
       "...   ...         ...                 ...                ...          ...   \n",
       "2995  ...          No                 NaN                Yes      Unknown   \n",
       "2996  ...          No                 NaN                Yes      Unknown   \n",
       "2997  ...          No                 NaN                Yes      Unknown   \n",
       "2998  ...          No                 NaN                Yes      Unknown   \n",
       "2999  ...          No                 NaN                 No          NaN   \n",
       "\n",
       "     Doses_Received Date_of_Last_Dose Long_COVID_Symptoms     Occupation  \\\n",
       "0                 1        2022-09-22                None     Healthcare   \n",
       "1                 0               NaN                None     Healthcare   \n",
       "2                 3        2024-05-14                None     Unemployed   \n",
       "3                 1        2024-10-31                None  Office Worker   \n",
       "4                 2        2023-07-05                None        Student   \n",
       "...             ...               ...                 ...            ...   \n",
       "2995              1        2024-09-20                None         Driver   \n",
       "2996              2        2023-10-05                None     Healthcare   \n",
       "2997              3        2023-05-13                None        Teacher   \n",
       "2998              1        2024-05-13                None        Student   \n",
       "2999              0               NaN                None        Teacher   \n",
       "\n",
       "     Smoking_Status   BMI  \n",
       "0             Never  27.7  \n",
       "1             Never  21.9  \n",
       "2             Never  22.7  \n",
       "3             Never  27.7  \n",
       "4             Never  11.9  \n",
       "...             ...   ...  \n",
       "2995          Never  22.0  \n",
       "2996          Never  27.8  \n",
       "2997         Former  20.9  \n",
       "2998          Never  19.3  \n",
       "2999         Former  33.0  \n",
       "\n",
       "[3000 rows x 25 columns]"
      ]
     },
     "execution_count": 19,
     "metadata": {},
     "output_type": "execute_result"
    }
   ],
   "source": [
    "df = df.drop('Patient_ID',axis=1)\n",
    "df"
   ]
  },
  {
   "cell_type": "code",
   "execution_count": 20,
   "id": "caa1f395",
   "metadata": {
    "execution": {
     "iopub.execute_input": "2025-08-15T21:56:36.953803Z",
     "iopub.status.busy": "2025-08-15T21:56:36.953556Z",
     "iopub.status.idle": "2025-08-15T21:56:36.959665Z",
     "shell.execute_reply": "2025-08-15T21:56:36.958605Z"
    },
    "id": "JFeCzGdLVGrX",
    "papermill": {
     "duration": 0.017087,
     "end_time": "2025-08-15T21:56:36.961442",
     "exception": false,
     "start_time": "2025-08-15T21:56:36.944355",
     "status": "completed"
    },
    "tags": []
   },
   "outputs": [],
   "source": [
    "X = df.drop('Recovered',axis=1)\n",
    "y = df['Recovered']"
   ]
  },
  {
   "cell_type": "code",
   "execution_count": 21,
   "id": "e45bbc80",
   "metadata": {
    "execution": {
     "iopub.execute_input": "2025-08-15T21:56:36.978519Z",
     "iopub.status.busy": "2025-08-15T21:56:36.978258Z",
     "iopub.status.idle": "2025-08-15T21:56:36.984704Z",
     "shell.execute_reply": "2025-08-15T21:56:36.983711Z"
    },
    "id": "-RWqyozgqGmt",
    "papermill": {
     "duration": 0.017134,
     "end_time": "2025-08-15T21:56:36.986263",
     "exception": false,
     "start_time": "2025-08-15T21:56:36.969129",
     "status": "completed"
    },
    "tags": []
   },
   "outputs": [],
   "source": [
    "# Remove features that happen AFTER recovery (leak the answer)\n",
    "X = X.drop(columns=[\n",
    "    'Date_of_Recovery',          # Directly shows recovery status\n",
    "    'Hospital_Discharge_Date',   # Only exists if patient recovered\n",
    "    'Date_of_Reinfection'        # Only exists for reinfected patients\n",
    "], errors='ignore')  # <- Safe even if some columns don't exist"
   ]
  },
  {
   "cell_type": "code",
   "execution_count": 22,
   "id": "b0007f10",
   "metadata": {
    "execution": {
     "iopub.execute_input": "2025-08-15T21:56:37.002441Z",
     "iopub.status.busy": "2025-08-15T21:56:37.002191Z",
     "iopub.status.idle": "2025-08-15T21:56:38.779664Z",
     "shell.execute_reply": "2025-08-15T21:56:38.778793Z"
    },
    "id": "7DnSg57YVOi0",
    "papermill": {
     "duration": 1.787502,
     "end_time": "2025-08-15T21:56:38.781335",
     "exception": false,
     "start_time": "2025-08-15T21:56:36.993833",
     "status": "completed"
    },
    "tags": []
   },
   "outputs": [],
   "source": [
    "from sklearn.model_selection import train_test_split\n",
    "from sklearn.linear_model import LogisticRegression\n",
    "from sklearn.svm import SVC\n",
    "from sklearn.metrics import accuracy_score,f1_score,precision_score,recall_score,classification_report\n",
    "from sklearn.compose import ColumnTransformer\n",
    "from sklearn.preprocessing import StandardScaler,LabelEncoder,OneHotEncoder,OrdinalEncoder"
   ]
  },
  {
   "cell_type": "code",
   "execution_count": 23,
   "id": "7fcb0604",
   "metadata": {
    "execution": {
     "iopub.execute_input": "2025-08-15T21:56:38.797972Z",
     "iopub.status.busy": "2025-08-15T21:56:38.797543Z",
     "iopub.status.idle": "2025-08-15T21:56:38.802465Z",
     "shell.execute_reply": "2025-08-15T21:56:38.801566Z"
    },
    "id": "G-_l8btTWvSO",
    "papermill": {
     "duration": 0.014945,
     "end_time": "2025-08-15T21:56:38.804066",
     "exception": false,
     "start_time": "2025-08-15T21:56:38.789121",
     "status": "completed"
    },
    "tags": []
   },
   "outputs": [],
   "source": [
    "num_values = ['Age','Doses_Received','BMI']\n",
    "one_hot_values = ['Gender', 'Region', 'Vaccination_Status',\n",
    "                   'Occupation', 'Smoking_Status','Hospitalized',\n",
    "                  'ICU_Admission','Ventilator_Support','Reinfection']\n",
    "ordinal_values = ['Symptoms','Severity','Preexisting_Condition','COVID_Strain','Long_COVID_Symptoms','Occupation']\n",
    "date_values = ['Date_of_Infection','Hospital_Admission_Date',\n",
    "               'Date_of_Last_Dose']"
   ]
  },
  {
   "cell_type": "code",
   "execution_count": 24,
   "id": "98793ab7",
   "metadata": {
    "execution": {
     "iopub.execute_input": "2025-08-15T21:56:38.820547Z",
     "iopub.status.busy": "2025-08-15T21:56:38.820259Z",
     "iopub.status.idle": "2025-08-15T21:56:38.834966Z",
     "shell.execute_reply": "2025-08-15T21:56:38.833798Z"
    },
    "id": "QwpaieXoaHnS",
    "outputId": "67c7e446-5f65-4df6-93ce-3ad44f2c457b",
    "papermill": {
     "duration": 0.02481,
     "end_time": "2025-08-15T21:56:38.836494",
     "exception": false,
     "start_time": "2025-08-15T21:56:38.811684",
     "status": "completed"
    },
    "tags": []
   },
   "outputs": [
    {
     "name": "stdout",
     "output_type": "stream",
     "text": [
      "Date_of_Infection          datetime64[ns]\n",
      "Hospital_Admission_Date    datetime64[ns]\n",
      "Date_of_Last_Dose          datetime64[ns]\n",
      "dtype: object\n"
     ]
    }
   ],
   "source": [
    "# Convert to datetime, forcing invalid dates to NaT (Not a Time)\n",
    "X[date_values] = X[date_values].apply(pd.to_datetime, errors='coerce')\n",
    "\n",
    "# Verify conversion\n",
    "print(X[date_values].dtypes)"
   ]
  },
  {
   "cell_type": "code",
   "execution_count": 25,
   "id": "704b489d",
   "metadata": {
    "execution": {
     "iopub.execute_input": "2025-08-15T21:56:38.853124Z",
     "iopub.status.busy": "2025-08-15T21:56:38.852785Z",
     "iopub.status.idle": "2025-08-15T21:56:38.874730Z",
     "shell.execute_reply": "2025-08-15T21:56:38.874017Z"
    },
    "id": "ZoJIc9-gbR3h",
    "papermill": {
     "duration": 0.031894,
     "end_time": "2025-08-15T21:56:38.876229",
     "exception": false,
     "start_time": "2025-08-15T21:56:38.844335",
     "status": "completed"
    },
    "tags": []
   },
   "outputs": [],
   "source": [
    "for date in date_values:\n",
    "  X[f'{date}_days'] = (pd.to_datetime('today') - pd.to_datetime(X[date])).dt.days.fillna(0)\n",
    "X.drop(date_values, axis=1, inplace=True)"
   ]
  },
  {
   "cell_type": "code",
   "execution_count": 26,
   "id": "2fbf0687",
   "metadata": {
    "execution": {
     "iopub.execute_input": "2025-08-15T21:56:38.892564Z",
     "iopub.status.busy": "2025-08-15T21:56:38.892303Z",
     "iopub.status.idle": "2025-08-15T21:56:38.896296Z",
     "shell.execute_reply": "2025-08-15T21:56:38.895397Z"
    },
    "id": "frPYpCoUdB0c",
    "papermill": {
     "duration": 0.013771,
     "end_time": "2025-08-15T21:56:38.897728",
     "exception": false,
     "start_time": "2025-08-15T21:56:38.883957",
     "status": "completed"
    },
    "tags": []
   },
   "outputs": [],
   "source": [
    "#add number of days to num_values\n",
    "num_values.extend(f'{col}_days' for col in date_values)"
   ]
  },
  {
   "cell_type": "code",
   "execution_count": 27,
   "id": "2e942d28",
   "metadata": {
    "execution": {
     "iopub.execute_input": "2025-08-15T21:56:38.914709Z",
     "iopub.status.busy": "2025-08-15T21:56:38.913748Z",
     "iopub.status.idle": "2025-08-15T21:56:38.918933Z",
     "shell.execute_reply": "2025-08-15T21:56:38.918041Z"
    },
    "id": "taf2iBB9WTZ7",
    "papermill": {
     "duration": 0.015048,
     "end_time": "2025-08-15T21:56:38.920516",
     "exception": false,
     "start_time": "2025-08-15T21:56:38.905468",
     "status": "completed"
    },
    "tags": []
   },
   "outputs": [],
   "source": [
    "process = ColumnTransformer(\n",
    "    transformers=[\n",
    "        ('num',StandardScaler(),num_values),\n",
    "        ('one_hot',OneHotEncoder(),one_hot_values),\n",
    "        ('Label',OrdinalEncoder(),ordinal_values)\n",
    "    ]\n",
    ")"
   ]
  },
  {
   "cell_type": "code",
   "execution_count": 28,
   "id": "e509e3c0",
   "metadata": {
    "execution": {
     "iopub.execute_input": "2025-08-15T21:56:38.937719Z",
     "iopub.status.busy": "2025-08-15T21:56:38.936845Z",
     "iopub.status.idle": "2025-08-15T21:56:38.944482Z",
     "shell.execute_reply": "2025-08-15T21:56:38.943660Z"
    },
    "id": "vMpOXUn2V72Y",
    "papermill": {
     "duration": 0.017764,
     "end_time": "2025-08-15T21:56:38.946067",
     "exception": false,
     "start_time": "2025-08-15T21:56:38.928303",
     "status": "completed"
    },
    "tags": []
   },
   "outputs": [],
   "source": [
    "X_train,X_test,y_train,y_test  = train_test_split(X,y,test_size=0.2,random_state=42)"
   ]
  },
  {
   "cell_type": "code",
   "execution_count": 29,
   "id": "dcc67c40",
   "metadata": {
    "execution": {
     "iopub.execute_input": "2025-08-15T21:56:38.962219Z",
     "iopub.status.busy": "2025-08-15T21:56:38.961963Z",
     "iopub.status.idle": "2025-08-15T21:56:38.967187Z",
     "shell.execute_reply": "2025-08-15T21:56:38.966057Z"
    },
    "id": "ktuqt2sPk7xQ",
    "papermill": {
     "duration": 0.014885,
     "end_time": "2025-08-15T21:56:38.968577",
     "exception": false,
     "start_time": "2025-08-15T21:56:38.953692",
     "status": "completed"
    },
    "tags": []
   },
   "outputs": [],
   "source": [
    "encode = LabelEncoder()\n",
    "y_train_scaled = encode.fit_transform(y_train)\n",
    "y_test_scaled = encode.transform(y_test)"
   ]
  },
  {
   "cell_type": "code",
   "execution_count": 30,
   "id": "56422962",
   "metadata": {
    "execution": {
     "iopub.execute_input": "2025-08-15T21:56:38.984930Z",
     "iopub.status.busy": "2025-08-15T21:56:38.984652Z",
     "iopub.status.idle": "2025-08-15T21:56:38.989288Z",
     "shell.execute_reply": "2025-08-15T21:56:38.988235Z"
    },
    "id": "dI35qT2TgMtd",
    "outputId": "2561f2ff-01b5-4033-9447-c656bc3d48e2",
    "papermill": {
     "duration": 0.014871,
     "end_time": "2025-08-15T21:56:38.991237",
     "exception": false,
     "start_time": "2025-08-15T21:56:38.976366",
     "status": "completed"
    },
    "tags": []
   },
   "outputs": [
    {
     "name": "stdout",
     "output_type": "stream",
     "text": [
      "Columns in X_train: ['Age', 'Gender', 'Region', 'Preexisting_Condition', 'COVID_Strain', 'Symptoms', 'Severity', 'Hospitalized', 'ICU_Admission', 'Ventilator_Support', 'Reinfection', 'Vaccination_Status', 'Vaccine_Type', 'Doses_Received', 'Long_COVID_Symptoms', 'Occupation', 'Smoking_Status', 'BMI', 'Date_of_Infection_days', 'Hospital_Admission_Date_days', 'Date_of_Last_Dose_days']\n"
     ]
    }
   ],
   "source": [
    "print(\"Columns in X_train:\", list(X_train.columns))"
   ]
  },
  {
   "cell_type": "code",
   "execution_count": 31,
   "id": "e83e1702",
   "metadata": {
    "execution": {
     "iopub.execute_input": "2025-08-15T21:56:39.008402Z",
     "iopub.status.busy": "2025-08-15T21:56:39.008109Z",
     "iopub.status.idle": "2025-08-15T21:56:39.058316Z",
     "shell.execute_reply": "2025-08-15T21:56:39.057184Z"
    },
    "id": "Uz1YPaX5dUP3",
    "papermill": {
     "duration": 0.060396,
     "end_time": "2025-08-15T21:56:39.059996",
     "exception": false,
     "start_time": "2025-08-15T21:56:38.999600",
     "status": "completed"
    },
    "tags": []
   },
   "outputs": [],
   "source": [
    "X_train_scaled = process.fit_transform(X_train)\n",
    "X_test_scaled = process.transform(X_test)"
   ]
  },
  {
   "cell_type": "code",
   "execution_count": 32,
   "id": "bbecf598",
   "metadata": {
    "execution": {
     "iopub.execute_input": "2025-08-15T21:56:39.077037Z",
     "iopub.status.busy": "2025-08-15T21:56:39.076758Z",
     "iopub.status.idle": "2025-08-15T21:56:39.472099Z",
     "shell.execute_reply": "2025-08-15T21:56:39.470955Z"
    },
    "id": "wfXCzT6RjbVE",
    "papermill": {
     "duration": 0.410442,
     "end_time": "2025-08-15T21:56:39.478843",
     "exception": false,
     "start_time": "2025-08-15T21:56:39.068401",
     "status": "completed"
    },
    "tags": []
   },
   "outputs": [],
   "source": [
    "model1 = LogisticRegression()\n",
    "model1.fit(X_train_scaled,y_train_scaled)\n",
    "y1_predict = model1.predict(X_test_scaled)"
   ]
  },
  {
   "cell_type": "code",
   "execution_count": 33,
   "id": "a4ffbcbf",
   "metadata": {
    "execution": {
     "iopub.execute_input": "2025-08-15T21:56:39.513100Z",
     "iopub.status.busy": "2025-08-15T21:56:39.512509Z",
     "iopub.status.idle": "2025-08-15T21:56:39.525780Z",
     "shell.execute_reply": "2025-08-15T21:56:39.524936Z"
    },
    "id": "0iJAzuQxkVaj",
    "papermill": {
     "duration": 0.03331,
     "end_time": "2025-08-15T21:56:39.528280",
     "exception": false,
     "start_time": "2025-08-15T21:56:39.494970",
     "status": "completed"
    },
    "tags": []
   },
   "outputs": [],
   "source": [
    "acc1 = accuracy_score(y_test_scaled,y1_predict)\n",
    "recall1 = recall_score(y_test_scaled,y1_predict)\n",
    "precision1 = precision_score(y_test_scaled,y1_predict)\n",
    "f11 = f1_score(y_test_scaled,y1_predict)"
   ]
  },
  {
   "cell_type": "code",
   "execution_count": 34,
   "id": "de97d212",
   "metadata": {
    "execution": {
     "iopub.execute_input": "2025-08-15T21:56:39.562726Z",
     "iopub.status.busy": "2025-08-15T21:56:39.562337Z",
     "iopub.status.idle": "2025-08-15T21:56:39.934422Z",
     "shell.execute_reply": "2025-08-15T21:56:39.933333Z"
    },
    "id": "F5DhiQctjujx",
    "papermill": {
     "duration": 0.39159,
     "end_time": "2025-08-15T21:56:39.936149",
     "exception": false,
     "start_time": "2025-08-15T21:56:39.544559",
     "status": "completed"
    },
    "tags": []
   },
   "outputs": [],
   "source": [
    "model2 = SVC(kernel='linear')\n",
    "model2.fit(X_train_scaled,y_train_scaled)\n",
    "y2_predict = model2.predict(X_test_scaled)"
   ]
  },
  {
   "cell_type": "code",
   "execution_count": 35,
   "id": "57cad8e2",
   "metadata": {
    "execution": {
     "iopub.execute_input": "2025-08-15T21:56:39.953757Z",
     "iopub.status.busy": "2025-08-15T21:56:39.952781Z",
     "iopub.status.idle": "2025-08-15T21:56:39.963600Z",
     "shell.execute_reply": "2025-08-15T21:56:39.962806Z"
    },
    "id": "2ghoZA9FlltD",
    "papermill": {
     "duration": 0.021444,
     "end_time": "2025-08-15T21:56:39.965361",
     "exception": false,
     "start_time": "2025-08-15T21:56:39.943917",
     "status": "completed"
    },
    "tags": []
   },
   "outputs": [],
   "source": [
    "acc2 = accuracy_score(y_test_scaled,y2_predict)\n",
    "recall2 = recall_score(y_test_scaled,y2_predict)\n",
    "precision2 = precision_score(y_test_scaled,y2_predict)\n",
    "f12 = f1_score(y_test_scaled,y2_predict)"
   ]
  },
  {
   "cell_type": "code",
   "execution_count": 36,
   "id": "63b84205",
   "metadata": {
    "execution": {
     "iopub.execute_input": "2025-08-15T21:56:40.035946Z",
     "iopub.status.busy": "2025-08-15T21:56:40.035630Z",
     "iopub.status.idle": "2025-08-15T21:56:40.040507Z",
     "shell.execute_reply": "2025-08-15T21:56:40.039697Z"
    },
    "id": "kLnWbL0zlr7F",
    "outputId": "a95a0489-b11a-45b2-b85d-fdf5ebdff7e0",
    "papermill": {
     "duration": 0.015429,
     "end_time": "2025-08-15T21:56:40.042176",
     "exception": false,
     "start_time": "2025-08-15T21:56:40.026747",
     "status": "completed"
    },
    "tags": []
   },
   "outputs": [
    {
     "name": "stdout",
     "output_type": "stream",
     "text": [
      "Logistic Regression Model\n",
      "Accuracy: 48.33%\n",
      "Recall\" 43.55%\n",
      "Precision: 45.795\n",
      "F1-Score: 44.64%\n"
     ]
    }
   ],
   "source": [
    "print('Logistic Regression Model')\n",
    "print(f'Accuracy: {acc1*100:.2f}%')\n",
    "print(f'Recall\" {recall1*100:.2f}%')\n",
    "print(f'Precision: {precision1*100:.2f}5')\n",
    "print(f'F1-Score: {f11*100:.2f}%')"
   ]
  },
  {
   "cell_type": "code",
   "execution_count": 37,
   "id": "6d9cb1ab",
   "metadata": {
    "execution": {
     "iopub.execute_input": "2025-08-15T21:56:40.059412Z",
     "iopub.status.busy": "2025-08-15T21:56:40.059166Z",
     "iopub.status.idle": "2025-08-15T21:56:40.072229Z",
     "shell.execute_reply": "2025-08-15T21:56:40.071203Z"
    },
    "id": "B-bDSExqmfhz",
    "outputId": "d0c975ab-5e7d-4cd6-9480-2e1d58862879",
    "papermill": {
     "duration": 0.023583,
     "end_time": "2025-08-15T21:56:40.074174",
     "exception": false,
     "start_time": "2025-08-15T21:56:40.050591",
     "status": "completed"
    },
    "tags": []
   },
   "outputs": [
    {
     "name": "stdout",
     "output_type": "stream",
     "text": [
      "              precision    recall  f1-score   support\n",
      "\n",
      "           0       0.50      0.53      0.52       313\n",
      "           1       0.46      0.44      0.45       287\n",
      "\n",
      "    accuracy                           0.48       600\n",
      "   macro avg       0.48      0.48      0.48       600\n",
      "weighted avg       0.48      0.48      0.48       600\n",
      "\n"
     ]
    }
   ],
   "source": [
    "print(classification_report(y_test_scaled, y1_predict))"
   ]
  },
  {
   "cell_type": "code",
   "execution_count": 38,
   "id": "4c6f1a34",
   "metadata": {
    "execution": {
     "iopub.execute_input": "2025-08-15T21:56:40.091202Z",
     "iopub.status.busy": "2025-08-15T21:56:40.090932Z",
     "iopub.status.idle": "2025-08-15T21:56:40.096487Z",
     "shell.execute_reply": "2025-08-15T21:56:40.095314Z"
    },
    "id": "a5zIAB45mJtB",
    "outputId": "d9bcd340-38d0-4ae6-db7e-767b144d385a",
    "papermill": {
     "duration": 0.01586,
     "end_time": "2025-08-15T21:56:40.098154",
     "exception": false,
     "start_time": "2025-08-15T21:56:40.082294",
     "status": "completed"
    },
    "tags": []
   },
   "outputs": [
    {
     "name": "stdout",
     "output_type": "stream",
     "text": [
      "SVM Model\n",
      "Accuracy: 50.67%\n",
      "Recall\" 33.80%\n",
      "Precision: 47.78%\n",
      "F1-Score: 39.59%\n"
     ]
    }
   ],
   "source": [
    "print('SVM Model')\n",
    "print(f'Accuracy: {acc2*100:.2f}%')\n",
    "print(f'Recall\" {recall2*100:.2f}%')\n",
    "print(f'Precision: {precision2*100:.2f}%')\n",
    "print(f'F1-Score: {f12*100:.2f}%')"
   ]
  },
  {
   "cell_type": "code",
   "execution_count": 39,
   "id": "08384111",
   "metadata": {
    "execution": {
     "iopub.execute_input": "2025-08-15T21:56:40.115233Z",
     "iopub.status.busy": "2025-08-15T21:56:40.114982Z",
     "iopub.status.idle": "2025-08-15T21:56:40.125749Z",
     "shell.execute_reply": "2025-08-15T21:56:40.124856Z"
    },
    "id": "SkYZi8i5mqP9",
    "outputId": "b88d9ea0-e1af-41f4-8525-c3e766b467f9",
    "papermill": {
     "duration": 0.021143,
     "end_time": "2025-08-15T21:56:40.127358",
     "exception": false,
     "start_time": "2025-08-15T21:56:40.106215",
     "status": "completed"
    },
    "tags": []
   },
   "outputs": [
    {
     "name": "stdout",
     "output_type": "stream",
     "text": [
      "              precision    recall  f1-score   support\n",
      "\n",
      "           0       0.52      0.66      0.58       313\n",
      "           1       0.48      0.34      0.40       287\n",
      "\n",
      "    accuracy                           0.51       600\n",
      "   macro avg       0.50      0.50      0.49       600\n",
      "weighted avg       0.50      0.51      0.49       600\n",
      "\n"
     ]
    }
   ],
   "source": [
    "#too low accuracy but i don't know what to do\n",
    "print(classification_report(y_test_scaled, y2_predict))"
   ]
  }
 ],
 "metadata": {
  "accelerator": "GPU",
  "colab": {
   "gpuType": "T4",
   "provenance": []
  },
  "kaggle": {
   "accelerator": "none",
   "dataSources": [
    {
     "datasetId": 7497898,
     "sourceId": 11925674,
     "sourceType": "datasetVersion"
    }
   ],
   "dockerImageVersionId": 31089,
   "isGpuEnabled": false,
   "isInternetEnabled": false,
   "language": "python",
   "sourceType": "notebook"
  },
  "kernelspec": {
   "display_name": "Python 3",
   "language": "python",
   "name": "python3"
  },
  "language_info": {
   "codemirror_mode": {
    "name": "ipython",
    "version": 3
   },
   "file_extension": ".py",
   "mimetype": "text/x-python",
   "name": "python",
   "nbconvert_exporter": "python",
   "pygments_lexer": "ipython3",
   "version": "3.11.13"
  },
  "papermill": {
   "default_parameters": {},
   "duration": 10.566782,
   "end_time": "2025-08-15T21:56:40.754867",
   "environment_variables": {},
   "exception": null,
   "input_path": "__notebook__.ipynb",
   "output_path": "__notebook__.ipynb",
   "parameters": {},
   "start_time": "2025-08-15T21:56:30.188085",
   "version": "2.6.0"
  }
 },
 "nbformat": 4,
 "nbformat_minor": 5
}
